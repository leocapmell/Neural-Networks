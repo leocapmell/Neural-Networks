{
 "cells": [
  {
   "cell_type": "code",
   "execution_count": 281,
   "metadata": {},
   "outputs": [
    {
     "name": "stdout",
     "output_type": "stream",
     "text": [
      "[[ 1.  2.]\n",
      " [ 6. 12.]\n",
      " [ 3.  6.]]\n"
     ]
    }
   ],
   "source": [
    "import numpy as np\n",
    "import random\n",
    "import pandas as pd\n",
    "from sklearn.experimental import enable_iterative_imputer\n",
    "from sklearn.impute import IterativeImputer\n",
    "import torch\n",
    "import seaborn as sns\n",
    "import torch.nn as nn\n",
    "from scipy.stats import ks_2samp\n",
    "from scipy.stats import ttest_ind\n",
    "#imputationby regression\n",
    "imp = IterativeImputer(max_iter=10, random_state=0)\n",
    "imp.fit([[1, 2], [3, 6], [4, 8], [np.nan, 3], [7, np.nan]])\n",
    "\n",
    "X_test = [[np.nan, 2], [6, np.nan], [np.nan, 6]]\n",
    "# the model learns that the second feature is double the first\n",
    "print(np.round(imp.transform(X_test)))\n"
   ]
  },
  {
   "cell_type": "code",
   "execution_count": 282,
   "metadata": {},
   "outputs": [],
   "source": [
    "train_data = pd.read_csv('C:/Users/Public/Documents/titanic/train.csv')\n",
    "train_data2= pd.read_csv('C:/Users/Public/Documents/titanic/train.csv')\n",
    "\n"
   ]
  },
  {
   "cell_type": "code",
   "execution_count": 283,
   "metadata": {},
   "outputs": [],
   "source": [
    "x=np.stack([train_data['Age'],train_data['Fare']],1)\n",
    "imp.fit(x)\n",
    "y=np.round(imp.transform(x))\n",
    "ag=y[:,0]\n",
    "fr=y[:,1]"
   ]
  },
  {
   "cell_type": "raw",
   "metadata": {},
   "source": [
    "\n"
   ]
  },
  {
   "cell_type": "code",
   "execution_count": 58,
   "metadata": {},
   "outputs": [
    {
     "data": {
      "text/plain": [
       "array([22., 38., 26., 35., 35., 29., 54.,  2., 27., 14.,  4., 58., 20.,\n",
       "       39., 14., 55.,  2., 29., 31., 29., 35., 34., 15., 28.,  8., 38.,\n",
       "       29., 19., 29., 29., 40., 32., 29., 66., 28., 42., 29., 21., 18.,\n",
       "       14., 40., 27., 29.,  3., 19., 29., 29., 29., 29., 18.,  7., 21.,\n",
       "       49., 29., 65., 30., 21., 28.,  5., 11., 22., 38., 45.,  4., 30.,\n",
       "       29., 29., 19., 17., 26., 32., 16., 21., 26., 32., 25., 29., 29.,\n",
       "        1., 30., 22., 29., 29., 28., 17., 33., 16., 29., 23., 24., 29.,\n",
       "       20., 46., 26., 59., 29., 71., 23., 34., 34., 28., 29., 21., 33.,\n",
       "       37., 28., 21., 29., 38., 29., 47., 14., 22., 20., 17., 21., 70.,\n",
       "       29., 24.,  2., 21., 29., 32., 32., 54., 12., 29., 24., 29., 45.,\n",
       "       33., 20., 47., 29., 25., 23., 19., 37., 16., 24., 29., 22., 24.,\n",
       "       19., 18., 19., 27.,  9., 36., 42., 51., 22., 56., 40., 29., 51.,\n",
       "       16., 30., 29., 30., 44., 40., 26., 17.,  1.,  9., 30., 45., 30.,\n",
       "       28., 61.,  4.,  1., 21., 56., 18., 29., 50., 30., 36., 30., 29.,\n",
       "        9.,  1.,  4., 30., 29., 45., 40., 36., 32., 19., 19.,  3., 44.,\n",
       "       58., 29., 42., 29., 24., 28., 30., 34., 46., 18.,  2., 32., 26.,\n",
       "       16., 40., 24., 35., 22., 30., 29., 31., 27., 42., 32., 30., 16.,\n",
       "       27., 51., 29., 38., 22., 19., 20., 18., 29., 35., 29., 59.,  5.,\n",
       "       24., 29., 44.,  8., 19., 33., 29., 29., 29., 22., 30., 44., 25.,\n",
       "       24., 37., 54., 29., 29., 62., 30., 41., 29., 31., 30., 35., 50.,\n",
       "       29.,  3., 52., 40., 29., 36., 16., 25., 58., 35., 30., 25., 41.,\n",
       "       37., 29., 63., 45., 29.,  7., 35., 65., 28., 16., 19., 30., 33.,\n",
       "       30., 22., 42., 22., 26., 19., 36., 24., 24., 30., 24.,  2., 30.,\n",
       "       50., 29., 29., 19., 29., 29.,  1., 31., 17., 30., 30., 24., 18.,\n",
       "       26., 28., 43., 26., 24., 54., 31., 40., 22., 27., 30., 22., 30.,\n",
       "       36., 61., 36., 31., 16., 29., 46., 38., 16., 32., 29., 29., 41.,\n",
       "       45., 45.,  2., 24., 28., 25., 36., 24., 40., 29.,  3., 42., 23.,\n",
       "       30., 15., 25., 29., 28., 22., 38., 29., 29., 40., 29., 45., 35.,\n",
       "       29., 30., 60., 29., 29., 24., 25., 18., 19., 22.,  3., 31., 22.,\n",
       "       27., 20., 19., 42.,  1., 32., 35., 29., 18.,  1., 36., 29., 17.,\n",
       "       36., 21., 28., 23., 24., 22., 31., 46., 23., 28., 39., 26., 21.,\n",
       "       28., 20., 34., 51.,  3., 21., 29., 29., 29., 33., 29., 44., 29.,\n",
       "       34., 18., 30., 10., 29., 21., 29., 28., 18., 29., 28., 19., 29.,\n",
       "       32., 28., 29., 42., 17., 50., 14., 21., 24., 64., 31., 45., 20.,\n",
       "       25., 28., 29.,  4., 13., 34.,  5., 52., 36., 29., 30., 49., 29.,\n",
       "       29., 65., 30., 50., 29., 48., 34., 47., 48., 29., 38., 29., 56.,\n",
       "       29.,  1., 29., 38., 33., 23., 22., 30., 34., 29., 22.,  2.,  9.,\n",
       "       29., 50., 63., 25., 29., 35., 58., 30.,  9., 29., 21., 55., 71.,\n",
       "       21., 29., 54., 29., 25., 24., 17., 21., 29., 37., 16., 18., 33.,\n",
       "       30., 28., 26., 29., 29., 36., 54., 24., 47., 34., 29., 36., 32.,\n",
       "       30., 22., 29., 44., 29., 40., 50., 34., 39., 23.,  2., 29., 17.,\n",
       "       29., 30.,  7., 45., 30., 29., 22., 36.,  9., 11., 32., 50., 64.,\n",
       "       19., 29., 33.,  8., 17., 27., 29., 22., 22., 62., 48., 34., 39.,\n",
       "       36., 29., 40., 28., 29., 29., 24., 19., 29., 29., 32., 62., 53.,\n",
       "       36., 29., 16., 19., 34., 39., 29., 32., 25., 39., 54., 36., 29.,\n",
       "       18., 47., 60., 22., 29., 35., 52., 47., 29., 37., 36., 30., 49.,\n",
       "       29., 49., 24., 29., 30., 44., 35., 36., 30., 27., 22., 40., 39.,\n",
       "       29., 29., 29., 35., 24., 34., 26.,  4., 26., 27., 42., 20., 21.,\n",
       "       21., 61., 57., 21., 26., 29., 80., 51., 32., 29.,  9., 28., 32.,\n",
       "       31., 41., 29., 20., 24.,  2., 30.,  1., 48., 19., 56., 29., 23.,\n",
       "       29., 18., 21., 29., 18., 24., 29., 32., 23., 58., 50., 40., 47.,\n",
       "       36., 20., 32., 25., 29., 43., 30., 40., 31., 70., 31., 29., 18.,\n",
       "       24., 18., 43., 36., 29., 27., 20., 14., 60., 25., 14., 19., 18.,\n",
       "       15., 31.,  4., 30., 25., 60., 52., 44., 29., 49., 42., 18., 35.,\n",
       "       18., 25., 26., 39., 45., 42., 22., 29., 24., 30., 48., 29., 52.,\n",
       "       19., 38., 27., 29., 33.,  6., 17., 34., 50., 27., 20., 30., 29.,\n",
       "       25., 25., 29., 11., 29., 23., 23., 28., 48., 35., 29., 29., 30.,\n",
       "       36., 21., 24., 31., 70., 16., 30., 19., 31.,  4.,  6., 33., 23.,\n",
       "       48.,  1., 28., 18., 34., 33., 29., 41., 20., 36., 16., 51., 30.,\n",
       "       30., 29., 32., 24., 48., 57., 29., 54., 18., 29.,  5., 29., 43.,\n",
       "       13., 17., 29., 29., 25., 25., 18.,  8.,  1., 46., 29., 16., 30.,\n",
       "       30., 25., 39., 49., 31., 30., 30., 34., 31., 11.,  0., 27., 31.,\n",
       "       39., 18., 39., 33., 26., 39., 35.,  6., 30., 29., 23., 31., 43.,\n",
       "       10., 52., 27., 38., 27.,  2., 29., 30.,  1., 29., 62., 15.,  1.,\n",
       "       29., 23., 18., 39., 21., 29., 32., 30., 20., 16., 30., 34., 17.,\n",
       "       42., 30., 35., 28., 31.,  4., 74.,  9., 16., 44., 18., 45., 51.,\n",
       "       24., 29., 41., 21., 48., 30., 24., 42., 27., 31., 29.,  4., 26.,\n",
       "       47., 33., 47., 28., 15., 20., 19., 29., 56., 25., 33., 22., 28.,\n",
       "       25., 39., 27., 19., 29., 26., 32.])"
      ]
     },
     "execution_count": 58,
     "metadata": {},
     "output_type": "execute_result"
    }
   ],
   "source": [
    "imp.fit(x)\n",
    "print(np.round(imp.transform(x)))\n",
    "y=np.round(imp.transform(x))"
   ]
  },
  {
   "cell_type": "code",
   "execution_count": 131,
   "metadata": {},
   "outputs": [],
   "source": [
    "train_data2['Age']= ag"
   ]
  },
  {
   "cell_type": "code",
   "execution_count": 133,
   "metadata": {},
   "outputs": [
    {
     "data": {
      "text/plain": [
       "False    876\n",
       "True      15\n",
       "Name: Age, dtype: int64"
      ]
     },
     "execution_count": 133,
     "metadata": {},
     "output_type": "execute_result"
    }
   ],
   "source": [
    "(train_data2['Age']==40).value_counts()"
   ]
  },
  {
   "cell_type": "code",
   "execution_count": 148,
   "metadata": {},
   "outputs": [],
   "source": [
    "td=train_data.dropna()"
   ]
  },
  {
   "cell_type": "code",
   "execution_count": 149,
   "metadata": {},
   "outputs": [],
   "source": [
    "t1=td['Age'].values\n",
    "t2=train_data2['Age'].values"
   ]
  },
  {
   "cell_type": "code",
   "execution_count": 150,
   "metadata": {},
   "outputs": [
    {
     "name": "stdout",
     "output_type": "stream",
     "text": [
      "stat=5.533, p=0.000\n",
      "Probably different distributions\n"
     ]
    }
   ],
   "source": [
    "\n",
    "\n",
    "stat, p = ttest_ind(t1, t2)\n",
    "print('stat=%.3f, p=%.3f' % (stat, p))\n",
    "if p > 0.05:\n",
    "\tprint('Probably the same distribution')\n",
    "else:\n",
    "\tprint('Probably different distributions')"
   ]
  },
  {
   "cell_type": "code",
   "execution_count": 163,
   "metadata": {},
   "outputs": [
    {
     "data": {
      "image/png": "[encoded data removed]",
      "text/plain": [
       "<Figure size 432x288 with 1 Axes>"
      ]
     },
     "metadata": {
      "needs_background": "light"
     },
     "output_type": "display_data"
    }
   ],
   "source": [
    "sns.distplot(t1, hist=False)\n",
    "sns.distplot(t2, hist=False)"
   ]
  },
  {
   "cell_type": "code",
   "execution_count": 166,
   "metadata": {},
   "outputs": [],
   "source": [
    "real_data=pd.read_csv('C:/Users/Public/Documents/titanic/test.csv')"
   ]
  },
  {
   "cell_type": "code",
   "execution_count": 174,
   "metadata": {},
   "outputs": [
    {
     "data": {
      "text/html": [
       "<div>\n",
       "<style scoped>\n",
       "    .dataframe tbody tr th:only-of-type {\n",
       "        vertical-align: middle;\n",
       "    }\n",
       "\n",
       "    .dataframe tbody tr th {\n",
       "        vertical-align: top;\n",
       "    }\n",
       "\n",
       "    .dataframe thead th {\n",
       "        text-align: right;\n",
       "    }\n",
       "</style>\n",
       "<table border=\"1\" class=\"dataframe\">\n",
       "  <thead>\n",
       "    <tr style=\"text-align: right;\">\n",
       "      <th></th>\n",
       "      <th>PassengerId</th>\n",
       "      <th>Survived</th>\n",
       "      <th>Pclass</th>\n",
       "      <th>Name</th>\n",
       "      <th>Sex</th>\n",
       "      <th>Age</th>\n",
       "      <th>SibSp</th>\n",
       "      <th>Parch</th>\n",
       "      <th>Ticket</th>\n",
       "      <th>Fare</th>\n",
       "      <th>Cabin</th>\n",
       "      <th>Embarked</th>\n",
       "    </tr>\n",
       "  </thead>\n",
       "  <tbody>\n",
       "    <tr>\n",
       "      <th>0</th>\n",
       "      <td>1</td>\n",
       "      <td>0</td>\n",
       "      <td>3</td>\n",
       "      <td>Braund, Mr. Owen Harris</td>\n",
       "      <td>male</td>\n",
       "      <td>22.0</td>\n",
       "      <td>1</td>\n",
       "      <td>0</td>\n",
       "      <td>A/5 21171</td>\n",
       "      <td>7.2500</td>\n",
       "      <td>NaN</td>\n",
       "      <td>S</td>\n",
       "    </tr>\n",
       "    <tr>\n",
       "      <th>1</th>\n",
       "      <td>2</td>\n",
       "      <td>1</td>\n",
       "      <td>1</td>\n",
       "      <td>Cumings, Mrs. John Bradley (Florence Briggs Th...</td>\n",
       "      <td>female</td>\n",
       "      <td>38.0</td>\n",
       "      <td>1</td>\n",
       "      <td>0</td>\n",
       "      <td>PC 17599</td>\n",
       "      <td>71.2833</td>\n",
       "      <td>C85</td>\n",
       "      <td>C</td>\n",
       "    </tr>\n",
       "    <tr>\n",
       "      <th>2</th>\n",
       "      <td>3</td>\n",
       "      <td>1</td>\n",
       "      <td>3</td>\n",
       "      <td>Heikkinen, Miss. Laina</td>\n",
       "      <td>female</td>\n",
       "      <td>26.0</td>\n",
       "      <td>0</td>\n",
       "      <td>0</td>\n",
       "      <td>STON/O2. 3101282</td>\n",
       "      <td>7.9250</td>\n",
       "      <td>NaN</td>\n",
       "      <td>S</td>\n",
       "    </tr>\n",
       "    <tr>\n",
       "      <th>3</th>\n",
       "      <td>4</td>\n",
       "      <td>1</td>\n",
       "      <td>1</td>\n",
       "      <td>Futrelle, Mrs. Jacques Heath (Lily May Peel)</td>\n",
       "      <td>female</td>\n",
       "      <td>35.0</td>\n",
       "      <td>1</td>\n",
       "      <td>0</td>\n",
       "      <td>113803</td>\n",
       "      <td>53.1000</td>\n",
       "      <td>C123</td>\n",
       "      <td>S</td>\n",
       "    </tr>\n",
       "    <tr>\n",
       "      <th>4</th>\n",
       "      <td>5</td>\n",
       "      <td>0</td>\n",
       "      <td>3</td>\n",
       "      <td>Allen, Mr. William Henry</td>\n",
       "      <td>male</td>\n",
       "      <td>35.0</td>\n",
       "      <td>0</td>\n",
       "      <td>0</td>\n",
       "      <td>373450</td>\n",
       "      <td>8.0500</td>\n",
       "      <td>NaN</td>\n",
       "      <td>S</td>\n",
       "    </tr>\n",
       "    <tr>\n",
       "      <th>...</th>\n",
       "      <td>...</td>\n",
       "      <td>...</td>\n",
       "      <td>...</td>\n",
       "      <td>...</td>\n",
       "      <td>...</td>\n",
       "      <td>...</td>\n",
       "      <td>...</td>\n",
       "      <td>...</td>\n",
       "      <td>...</td>\n",
       "      <td>...</td>\n",
       "      <td>...</td>\n",
       "      <td>...</td>\n",
       "    </tr>\n",
       "    <tr>\n",
       "      <th>886</th>\n",
       "      <td>887</td>\n",
       "      <td>0</td>\n",
       "      <td>2</td>\n",
       "      <td>Montvila, Rev. Juozas</td>\n",
       "      <td>male</td>\n",
       "      <td>27.0</td>\n",
       "      <td>0</td>\n",
       "      <td>0</td>\n",
       "      <td>211536</td>\n",
       "      <td>13.0000</td>\n",
       "      <td>NaN</td>\n",
       "      <td>S</td>\n",
       "    </tr>\n",
       "    <tr>\n",
       "      <th>887</th>\n",
       "      <td>888</td>\n",
       "      <td>1</td>\n",
       "      <td>1</td>\n",
       "      <td>Graham, Miss. Margaret Edith</td>\n",
       "      <td>female</td>\n",
       "      <td>19.0</td>\n",
       "      <td>0</td>\n",
       "      <td>0</td>\n",
       "      <td>112053</td>\n",
       "      <td>30.0000</td>\n",
       "      <td>B42</td>\n",
       "      <td>S</td>\n",
       "    </tr>\n",
       "    <tr>\n",
       "      <th>888</th>\n",
       "      <td>889</td>\n",
       "      <td>0</td>\n",
       "      <td>3</td>\n",
       "      <td>Johnston, Miss. Catherine Helen \"Carrie\"</td>\n",
       "      <td>female</td>\n",
       "      <td>NaN</td>\n",
       "      <td>1</td>\n",
       "      <td>2</td>\n",
       "      <td>W./C. 6607</td>\n",
       "      <td>23.4500</td>\n",
       "      <td>NaN</td>\n",
       "      <td>S</td>\n",
       "    </tr>\n",
       "    <tr>\n",
       "      <th>889</th>\n",
       "      <td>890</td>\n",
       "      <td>1</td>\n",
       "      <td>1</td>\n",
       "      <td>Behr, Mr. Karl Howell</td>\n",
       "      <td>male</td>\n",
       "      <td>26.0</td>\n",
       "      <td>0</td>\n",
       "      <td>0</td>\n",
       "      <td>111369</td>\n",
       "      <td>30.0000</td>\n",
       "      <td>C148</td>\n",
       "      <td>C</td>\n",
       "    </tr>\n",
       "    <tr>\n",
       "      <th>890</th>\n",
       "      <td>891</td>\n",
       "      <td>0</td>\n",
       "      <td>3</td>\n",
       "      <td>Dooley, Mr. Patrick</td>\n",
       "      <td>male</td>\n",
       "      <td>32.0</td>\n",
       "      <td>0</td>\n",
       "      <td>0</td>\n",
       "      <td>370376</td>\n",
       "      <td>7.7500</td>\n",
       "      <td>NaN</td>\n",
       "      <td>Q</td>\n",
       "    </tr>\n",
       "  </tbody>\n",
       "</table>\n",
       "<p>891 rows × 12 columns</p>\n",
       "</div>"
      ],
      "text/plain": [
       "     PassengerId  Survived  Pclass  \\\n",
       "0              1         0       3   \n",
       "1              2         1       1   \n",
       "2              3         1       3   \n",
       "3              4         1       1   \n",
       "4              5         0       3   \n",
       "..           ...       ...     ...   \n",
       "886          887         0       2   \n",
       "887          888         1       1   \n",
       "888          889         0       3   \n",
       "889          890         1       1   \n",
       "890          891         0       3   \n",
       "\n",
       "                                                  Name     Sex   Age  SibSp  \\\n",
       "0                              Braund, Mr. Owen Harris    male  22.0      1   \n",
       "1    Cumings, Mrs. John Bradley (Florence Briggs Th...  female  38.0      1   \n",
       "2                               Heikkinen, Miss. Laina  female  26.0      0   \n",
       "3         Futrelle, Mrs. Jacques Heath (Lily May Peel)  female  35.0      1   \n",
       "4                             Allen, Mr. William Henry    male  35.0      0   \n",
       "..                                                 ...     ...   ...    ...   \n",
       "886                              Montvila, Rev. Juozas    male  27.0      0   \n",
       "887                       Graham, Miss. Margaret Edith  female  19.0      0   \n",
       "888           Johnston, Miss. Catherine Helen \"Carrie\"  female   NaN      1   \n",
       "889                              Behr, Mr. Karl Howell    male  26.0      0   \n",
       "890                                Dooley, Mr. Patrick    male  32.0      0   \n",
       "\n",
       "     Parch            Ticket     Fare Cabin Embarked  \n",
       "0        0         A/5 21171   7.2500   NaN        S  \n",
       "1        0          PC 17599  71.2833   C85        C  \n",
       "2        0  STON/O2. 3101282   7.9250   NaN        S  \n",
       "3        0            113803  53.1000  C123        S  \n",
       "4        0            373450   8.0500   NaN        S  \n",
       "..     ...               ...      ...   ...      ...  \n",
       "886      0            211536  13.0000   NaN        S  \n",
       "887      0            112053  30.0000   B42        S  \n",
       "888      2        W./C. 6607  23.4500   NaN        S  \n",
       "889      0            111369  30.0000  C148        C  \n",
       "890      0            370376   7.7500   NaN        Q  \n",
       "\n",
       "[891 rows x 12 columns]"
      ]
     },
     "execution_count": 174,
     "metadata": {},
     "output_type": "execute_result"
    }
   ],
   "source": [
    "train_data"
   ]
  },
  {
   "cell_type": "code",
   "execution_count": 213,
   "metadata": {},
   "outputs": [
    {
     "data": {
      "text/plain": [
       "29.881137667304014"
      ]
     },
     "execution_count": 213,
     "metadata": {},
     "output_type": "execute_result"
    }
   ],
   "source": [
    "\n",
    "data= pd.concat([train_data, real_data])\n",
    "mean_t=data['Age'].mean()\n",
    "mean_t"
   ]
  },
  {
   "cell_type": "code",
   "execution_count": 214,
   "metadata": {},
   "outputs": [],
   "source": [
    "std_t=train_data['Age'].std()"
   ]
  },
  {
   "cell_type": "code",
   "execution_count": 215,
   "metadata": {},
   "outputs": [],
   "source": [
    "s = np.random.normal(mean_t, std_t, 891)"
   ]
  },
  {
   "cell_type": "code",
   "execution_count": 216,
   "metadata": {},
   "outputs": [
    {
     "data": {
      "text/plain": [
       "<matplotlib.axes._subplots.AxesSubplot at 0x18504a6aa88>"
      ]
     },
     "execution_count": 216,
     "metadata": {},
     "output_type": "execute_result"
    },
    {
     "data": {
      "image/png": "[encoded data removed]",
      "text/plain": [
       "<Figure size 432x288 with 1 Axes>"
      ]
     },
     "metadata": {
      "needs_background": "light"
     },
     "output_type": "display_data"
    }
   ],
   "source": [
    "sns.distplot(s, hist=False)\n",
    "sns.distplot(t1, hist=False)"
   ]
  },
  {
   "cell_type": "code",
   "execution_count": 245,
   "metadata": {},
   "outputs": [
    {
     "data": {
      "text/plain": [
       "array([38.  , 35.  , 54.  ,  4.  , 58.  , 34.  , 28.  , 19.  , 49.  ,\n",
       "       65.  , 45.  , 29.  , 25.  , 23.  , 46.  , 71.  , 23.  , 21.  ,\n",
       "       47.  , 24.  , 32.5 , 54.  , 19.  , 37.  , 24.  , 36.5 , 22.  ,\n",
       "       61.  , 56.  , 50.  ,  1.  ,  3.  , 44.  , 58.  ,  2.  , 40.  ,\n",
       "       31.  , 32.  , 38.  , 35.  , 44.  , 37.  , 29.  , 62.  , 30.  ,\n",
       "       52.  , 40.  , 58.  , 35.  , 37.  , 63.  , 19.  , 36.  ,  2.  ,\n",
       "       50.  ,  0.92, 17.  , 30.  , 24.  , 18.  , 31.  , 40.  , 36.  ,\n",
       "       36.  , 16.  , 45.5 , 38.  , 29.  , 41.  , 45.  ,  2.  , 24.  ,\n",
       "       24.  , 22.  , 60.  , 24.  , 25.  , 27.  , 36.  , 23.  , 24.  ,\n",
       "       33.  , 32.  , 28.  , 50.  , 14.  , 64.  ,  4.  , 52.  , 30.  ,\n",
       "       49.  , 65.  , 48.  , 47.  , 23.  , 25.  , 35.  , 58.  , 55.  ,\n",
       "       54.  , 25.  , 16.  , 18.  , 36.  , 47.  , 34.  , 30.  , 44.  ,\n",
       "       45.  , 22.  , 36.  , 50.  , 17.  , 48.  , 39.  , 53.  , 36.  ,\n",
       "       39.  , 39.  , 36.  , 18.  , 60.  , 52.  , 49.  , 40.  ,  4.  ,\n",
       "       42.  , 61.  , 21.  , 80.  , 32.  , 24.  , 48.  , 56.  , 58.  ,\n",
       "       47.  , 31.  , 36.  , 27.  , 15.  , 31.  , 49.  , 42.  , 18.  ,\n",
       "       35.  , 42.  , 24.  , 48.  , 19.  , 38.  , 27.  , 27.  , 29.  ,\n",
       "       35.  , 36.  , 21.  , 70.  , 19.  ,  6.  , 33.  , 36.  , 51.  ,\n",
       "       57.  , 43.  , 17.  , 29.  , 46.  , 49.  , 11.  , 39.  , 33.  ,\n",
       "       52.  , 27.  , 39.  , 16.  , 51.  , 48.  , 31.  , 47.  , 33.  ,\n",
       "       56.  , 19.  , 26.  , 23.  , 47.  , 48.  , 22.  , 41.  , 30.  ,\n",
       "       45.  , 45.  , 60.  , 24.  , 28.  , 25.  , 36.  , 13.  , 31.  ,\n",
       "       60.  , 28.5 , 35.  , 32.5 , 55.  , 67.  , 27.  , 76.  , 43.  ,\n",
       "       18.5 , 36.  , 63.  ,  1.  , 36.  , 35.  , 53.  , 61.  , 23.  ,\n",
       "       29.  , 42.  , 48.  , 54.  , 36.  , 64.  , 37.  , 18.  , 27.  ,\n",
       "        6.  , 47.  , 33.  , 42.  , 50.  , 22.  , 39.  , 64.  , 48.  ,\n",
       "       45.  , 41.  , 27.  , 46.  , 26.  , 24.  , 53.  , 64.  , 30.  ,\n",
       "       55.  , 55.  , 57.  , 25.  , 26.  , 12.  , 39.  , 30.  , 58.  ,\n",
       "       45.  , 50.  , 59.  , 25.  , 31.  , 49.  , 54.  , 55.  , 23.  ,\n",
       "       51.  , 18.  , 48.  , 30.  , 43.  , 20.  , 50.  , 37.  , 39.  ])"
      ]
     },
     "execution_count": 245,
     "metadata": {},
     "output_type": "execute_result"
    }
   ],
   "source": [
    "datas['Age'].values"
   ]
  },
  {
   "cell_type": "code",
   "execution_count": 256,
   "metadata": {},
   "outputs": [
    {
     "data": {
      "text/plain": [
       "array([38.  , 35.  , 54.  ,  4.  , 58.  , 34.  , 28.  , 19.  , 49.  ,\n",
       "       65.  , 45.  , 29.  , 25.  , 23.  , 46.  , 71.  , 23.  , 21.  ,\n",
       "       47.  , 24.  , 32.5 , 54.  , 19.  , 37.  , 24.  , 36.5 , 22.  ,\n",
       "       61.  , 56.  , 50.  ,  1.  ,  3.  , 44.  , 58.  ,  2.  , 40.  ,\n",
       "       31.  , 32.  , 38.  , 35.  , 44.  , 37.  , 29.  , 62.  , 30.  ,\n",
       "       52.  , 40.  , 58.  , 35.  , 37.  , 63.  , 19.  , 36.  ,  2.  ,\n",
       "       50.  ,  0.92, 17.  , 30.  , 24.  , 18.  , 31.  , 40.  , 36.  ,\n",
       "       36.  , 16.  , 45.5 , 38.  , 29.  , 41.  , 45.  ,  2.  , 24.  ,\n",
       "       24.  , 22.  , 60.  , 24.  , 25.  , 27.  , 36.  , 23.  , 24.  ,\n",
       "       33.  , 32.  , 28.  , 50.  , 14.  , 64.  ,  4.  , 52.  , 30.  ,\n",
       "       49.  , 65.  , 48.  , 47.  , 23.  , 25.  , 35.  , 58.  , 55.  ,\n",
       "       54.  , 25.  , 16.  , 18.  , 36.  , 47.  , 34.  , 30.  , 44.  ,\n",
       "       45.  , 22.  , 36.  , 50.  , 17.  , 48.  , 39.  , 53.  , 36.  ,\n",
       "       39.  , 39.  , 36.  , 18.  , 60.  , 52.  , 49.  , 40.  ,  4.  ,\n",
       "       42.  , 61.  , 21.  , 80.  , 32.  , 24.  , 48.  , 56.  , 58.  ,\n",
       "       47.  , 31.  , 36.  , 27.  , 15.  , 31.  , 49.  , 42.  , 18.  ,\n",
       "       35.  , 42.  , 24.  , 48.  , 19.  , 38.  , 27.  , 27.  , 29.  ,\n",
       "       35.  , 36.  , 21.  , 70.  , 19.  ,  6.  , 33.  , 36.  , 51.  ,\n",
       "       57.  , 43.  , 17.  , 29.  , 46.  , 49.  , 11.  , 39.  , 33.  ,\n",
       "       52.  , 27.  , 39.  , 16.  , 51.  , 48.  , 31.  , 47.  , 33.  ,\n",
       "       56.  , 19.  , 26.  , 23.  , 47.  , 48.  , 22.  , 41.  , 30.  ,\n",
       "       45.  , 45.  , 60.  , 24.  , 28.  , 25.  , 36.  , 13.  , 31.  ,\n",
       "       60.  , 28.5 , 35.  , 32.5 , 55.  , 67.  , 27.  , 76.  , 43.  ,\n",
       "       18.5 , 36.  , 63.  ,  1.  , 36.  , 35.  , 53.  , 61.  , 23.  ,\n",
       "       29.  , 42.  , 48.  , 54.  , 36.  , 64.  , 37.  , 18.  , 27.  ,\n",
       "        6.  , 47.  , 33.  , 42.  , 50.  , 22.  , 39.  , 64.  , 48.  ,\n",
       "       45.  , 41.  , 27.  , 46.  , 26.  , 24.  , 53.  , 64.  , 30.  ,\n",
       "       55.  , 55.  , 57.  , 25.  , 26.  , 12.  , 39.  , 30.  , 58.  ,\n",
       "       45.  , 50.  , 59.  , 25.  , 31.  , 49.  , 54.  , 55.  , 23.  ,\n",
       "       51.  , 18.  , 48.  , 30.  , 43.  , 20.  , 50.  , 37.  , 39.  ])"
      ]
     },
     "execution_count": 256,
     "metadata": {},
     "output_type": "execute_result"
    }
   ],
   "source": [
    "\n",
    "\n",
    "    rand = [random.choice(datas['Age'].values) for x in range(1000)]\n",
    "    rand2= [random.choice(rand) for x in range(600)]\n",
    "rand\n",
    "datas['Age'].values"
   ]
  },
  {
   "cell_type": "code",
   "execution_count": 253,
   "metadata": {},
   "outputs": [
    {
     "data": {
      "text/plain": [
       "<matplotlib.axes._subplots.AxesSubplot at 0x18504bdca88>"
      ]
     },
     "execution_count": 253,
     "metadata": {},
     "output_type": "execute_result"
    },
    {
     "data": {
      "image/png": "[encoded data removed]",
      "text/plain": [
       "<Figure size 432x288 with 1 Axes>"
      ]
     },
     "metadata": {
      "needs_background": "light"
     },
     "output_type": "display_data"
    }
   ],
   "source": [
    "sns.distplot(rand2, hist=False)\n",
    "sns.distplot(t1, hist=False)"
   ]
  },
  {
   "cell_type": "code",
   "execution_count": 275,
   "metadata": {},
   "outputs": [],
   "source": [
    "df=train_data['Cabin'].dropna()\n",
    "df = df.astype('category')\n",
    "cabin=df.cat.codes.values"
   ]
  },
  {
   "cell_type": "code",
   "execution_count": 276,
   "metadata": {},
   "outputs": [
    {
     "data": {
      "text/plain": [
       "<matplotlib.axes._subplots.AxesSubplot at 0x18504cfdb88>"
      ]
     },
     "execution_count": 276,
     "metadata": {},
     "output_type": "execute_result"
    },
    {
     "data": {
      "image/png": "[encoded data removed]",
      "text/plain": [
       "<Figure size 432x288 with 1 Axes>"
      ]
     },
     "metadata": {
      "needs_background": "light"
     },
     "output_type": "display_data"
    }
   ],
   "source": [
    "sns.distplot(cabin, hist=False)\n"
   ]
  },
  {
   "cell_type": "code",
   "execution_count": 278,
   "metadata": {},
   "outputs": [],
   "source": [
    "\n",
    "nulc=train_data['Cabin'].isnull().sum()\n",
    "fillc=[random.choice(cabin) for x in range(nulc)]\n",
    "train_data.loc[train_data.Cabin.isnull(), 'Cabin'] = fillc"
   ]
  },
  {
   "cell_type": "code",
   "execution_count": 280,
   "metadata": {},
   "outputs": [],
   "source": []
  },
  {
   "cell_type": "code",
   "execution_count": null,
   "metadata": {},
   "outputs": [],
   "source": []
  }
 ],
 "metadata": {
  "kernelspec": {
   "display_name": "Python 3",
   "language": "python",
   "name": "python3"
  },
  "language_info": {
   "codemirror_mode": {
    "name": "ipython",
    "version": 3
   },
   "file_extension": ".py",
   "mimetype": "text/x-python",
   "name": "python",
   "nbconvert_exporter": "python",
   "pygments_lexer": "ipython3",
   "version": "3.7.6"
  }
 },
 "nbformat": 4,
 "nbformat_minor": 4
}
