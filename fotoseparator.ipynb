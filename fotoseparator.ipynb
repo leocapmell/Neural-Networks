{
 "cells": [
  {
   "cell_type": "code",
   "execution_count": 10,
   "metadata": {},
   "outputs": [],
   "source": [
    "from collections import Counter\n",
    "\n",
    "\n",
    "import os\n",
    "import argparse\n",
    "import torch\n",
    "from torch.utils.data import Dataset\n",
    "from tqdm import tqdm\n",
    "from PIL import Image\n",
    "import pandas as pd\n",
    "import torch\n",
    "import torch.nn as nn\n",
    "import torch.nn.functional as F\n",
    "from torch.utils.data import DataLoader\n",
    "from torchvision import datasets, transforms\n",
    "from torchvision.utils import make_grid\n",
    "import numpy as np\n",
    "import pandas as pd\n",
    "import matplotlib.pyplot as plt\n",
    "%matplotlib inline"
   ]
  },
  {
   "cell_type": "code",
   "execution_count": 11,
   "metadata": {},
   "outputs": [],
   "source": [
    "root_dir = \"..\\Data\\Apple\\images\"\n",
    "train_csv=pd.read_csv(r\"C:\\Users\\Public\\Documents\\PYTORCH_NOTEBOOKS\\Data\\Apple\\train.csv\")\n",
    "csv_path=r\"C:\\Users\\Public\\Documents\\PYTORCH_NOTEBOOKS\\Data\\Apple\\train.csv\""
   ]
  },
  {
   "cell_type": "code",
   "execution_count": null,
   "metadata": {},
   "outputs": [],
   "source": []
  },
  {
   "cell_type": "code",
   "execution_count": null,
   "metadata": {},
   "outputs": [],
   "source": []
  },
  {
   "cell_type": "code",
   "execution_count": 12,
   "metadata": {},
   "outputs": [
    {
     "name": "stderr",
     "output_type": "stream",
     "text": [
      "C:\\Users\\Public\\Documents\\pit\\lib\\site-packages\\pandas\\core\\indexing.py:670: SettingWithCopyWarning: \n",
      "A value is trying to be set on a copy of a slice from a DataFrame\n",
      "\n",
      "See the caveats in the documentation: https://pandas.pydata.org/pandas-docs/stable/user_guide/indexing.html#returning-a-view-versus-a-copy\n",
      "  self._setitem_with_indexer(indexer, value)\n"
     ]
    }
   ],
   "source": [
    "for i in range(len(train_csv[\"healthy\"])):\n",
    "    if train_csv[\"multiple_diseases\"].iloc[i]==1:\n",
    "        train_csv[\"multiple_diseases\"].iloc[i]=2\n",
    "    if train_csv[\"rust\"].iloc[i]==1:\n",
    "        train_csv[\"rust\"].iloc[i]=3\n",
    "    if train_csv[\"scab\"].iloc[i]==1:\n",
    "        train_csv[\"scab\"].iloc[i]=4 \n",
    "train_csv[\"cat\"]=train_csv[\"multiple_diseases\"]+train_csv[\"rust\"]+ train_csv[\"scab\"]+train_csv[\"healthy\"]\n",
    "del train_csv[\"multiple_diseases\"]\n",
    "del train_csv[\"rust\"]\n",
    "del  train_csv[\"scab\"]\n",
    "\n",
    "for i in range(len(train_csv[\"cat\"])):\n",
    "    if train_csv[\"cat\"].iloc[i]== \"h\":\n",
    "        train_csv[\"cat\"].iloc[i]=\"Healthy\"\n",
    "    elif train_csv[\"cat\"].iloc[i]== \"md\":\n",
    "        train_csv[\"cat\"].iloc[i]=\"Multiple\"\n",
    "    elif train_csv[\"cat\"].iloc[i]== \"r\":\n",
    "        train_csv[\"cat\"].iloc[i]=\"Rust\"\n",
    "    elif train_csv[\"cat\"].iloc[i]== \"s\":\n",
    "        train_csv[\"cat\"].iloc[i]=\"Scab\"\n",
    "\n",
    "     \n",
    "            \n",
    "                                        \n",
    "         \n",
    "    \n",
    "                                   \n",
    "    \n",
    "    \n",
    "            \n",
    "\n",
    "    \n",
    "           \n",
    "            \n",
    "            \n",
    "            \n",
    "            \n",
    "            \n",
    "            \n",
    "            \n",
    "            \n",
    "            \n",
    "      \n",
    "    \n",
    "            \n",
    "            \n",
    "    \n",
    "\n"
   ]
  },
  {
   "cell_type": "code",
   "execution_count": 4,
   "metadata": {},
   "outputs": [],
   "source": [
    "from __future__ import print_function, division\n",
    "import os\n",
    "import torch\n",
    "import pandas as pd\n",
    "from skimage import io, transform\n",
    "import numpy as np\n",
    "import matplotlib.pyplot as plt\n",
    "from torch.utils.data import Dataset, DataLoader\n",
    "from torchvision import transforms, utils"
   ]
  },
  {
   "cell_type": "code",
   "execution_count": 253,
   "metadata": {},
   "outputs": [],
   "source": []
  },
  {
   "cell_type": "code",
   "execution_count": 8,
   "metadata": {},
   "outputs": [
    {
     "ename": "NameError",
     "evalue": "name 'FaceLandmarksDataset' is not defined",
     "output_type": "error",
     "traceback": [
      "\u001b[1;31m---------------------------------------------------------------------------\u001b[0m",
      "\u001b[1;31mNameError\u001b[0m                                 Traceback (most recent call last)",
      "\u001b[1;32m<ipython-input-8-598ef4751791>\u001b[0m in \u001b[0;36m<module>\u001b[1;34m\u001b[0m\n\u001b[1;32m----> 1\u001b[1;33m train_dataset =FaceLandmarksDataset(csv_file=r\"C:\\Users\\Public\\Documents\\PYTORCH_NOTEBOOKS\\Data\\Apple\\traincsv.csv\", \n\u001b[0m\u001b[0;32m      2\u001b[0m                          root_dir=r\"C:\\Users\\Public\\Documents\\PYTORCH_NOTEBOOKS\\Data\\Apple\\images\\train\\1\")\n\u001b[0;32m      3\u001b[0m \u001b[0mtrain_csv\u001b[0m\u001b[1;33m\u001b[0m\u001b[1;33m\u001b[0m\u001b[0m\n",
      "\u001b[1;31mNameError\u001b[0m: name 'FaceLandmarksDataset' is not defined"
     ]
    }
   ],
   "source": [
    "train_dataset =FaceLandmarksDataset(csv_file=r\"C:\\Users\\Public\\Documents\\PYTORCH_NOTEBOOKS\\Data\\Apple\\traincsv.csv\", \n",
    "                         root_dir=r\"C:\\Users\\Public\\Documents\\PYTORCH_NOTEBOOKS\\Data\\Apple\\images\\train\\1\")\n"
   ]
  },
  {
   "cell_type": "code",
   "execution_count": 14,
   "metadata": {},
   "outputs": [],
   "source": [
    "del train_csv[\"healthy\"]"
   ]
  },
  {
   "cell_type": "code",
   "execution_count": 57,
   "metadata": {},
   "outputs": [],
   "source": [
    "tpath= r'C:\\Users\\Public\\Documents\\PYTORCH_NOTEBOOKS\\Data\\Apple\\images\\train\\1'+\"\\\\\"\n",
    "outpath=r'C:\\Users\\Public\\Documents\\PYTORCH_NOTEBOOKS\\Data\\Apple\\images\\train\\healthy'+\"\\\\\"\n",
    "outpath2=r'C:\\Users\\Public\\Documents\\PYTORCH_NOTEBOOKS\\Data\\Apple\\images\\train\\multiple'+\"\\\\\"\n",
    "outpath3=r'C:\\Users\\Public\\Documents\\PYTORCH_NOTEBOOKS\\Data\\Apple\\images\\train\\rust'+\"\\\\\"\n",
    "outpath4=r'C:\\Users\\Public\\Documents\\PYTORCH_NOTEBOOKS\\Data\\Apple\\images\\train\\scub'+\"\\\\\"\n",
    "\n",
    "  \n",
    "for i in range(len(train_csv[\"image_id\"])):\n",
    "    if train_csv.iloc[i,1]==1:\n",
    "        os.rename(tpath + train_csv.iloc[i,0]+ '.jpg', outpath + 'healthy'+ str(i) +'.jpg') \n",
    "    elif train_csv.iloc[i,1]==2:\n",
    "        os.rename(tpath + train_csv.iloc[i,0]+ '.jpg', outpath2 + 'multiple'+ str(i) +'.jpg') \n",
    "    elif train_csv.iloc[i,1]==3:\n",
    "        os.rename(tpath + train_csv.iloc[i,0]+ '.jpg', outpath3 + 'rust'+ str(i) +'.jpg') \n",
    "    elif train_csv.iloc[i,1]==4:\n",
    "        os.rename(tpath + train_csv.iloc[i,0]+ '.jpg', outpath4 + 'scub'+ str(i) +'.jpg') \n",
    "    \n",
    "    \n",
    "\n",
    "\n",
    "\n"
   ]
  },
  {
   "cell_type": "markdown",
   "metadata": {},
   "source": [
    "train_csv[\"image_id\"]"
   ]
  },
  {
   "cell_type": "code",
   "execution_count": 317,
   "metadata": {},
   "outputs": [],
   "source": [
    "train_csv.to_csv(r\"C:\\Users\\Public\\Documents\\PYTORCH_NOTEBOOKS\\Data\\Apple\\traincsv.csv\")"
   ]
  },
  {
   "cell_type": "code",
   "execution_count": 36,
   "metadata": {},
   "outputs": [],
   "source": [
    "paths=r\"C:\\Users\\Public\\Documents\\PYTORCH_NOTEBOOKS\\Data\\Apple\\images\\Apple___Apple_scab\"+\"\\\\\"\n",
    "outpaths=r\"C:\\Users\\Public\\Documents\\PYTORCH_NOTEBOOKS\\Data\\Apple\\images\\test_train\\Train\\scub\"+\"\\\\\"\n",
    "path, dirs, files = next(os.walk(paths))\n",
    "\n",
    "file_count = len(files)+1\n",
    "\n",
    "for i in range(1,file_count):\n",
    "    os.rename(paths+\"scubc (\"  + (str(i))+ \")\" + '.jpg', outpaths + 'scub'+ str(i) +'.jpg') \n",
    "   \n",
    "\n",
    "    \n"
   ]
  },
  {
   "cell_type": "code",
   "execution_count": 37,
   "metadata": {},
   "outputs": [],
   "source": [
    "paths=r\"C:\\Users\\Public\\Documents\\PYTORCH_NOTEBOOKS\\Data\\Apple\\images\\Apple___healthy\"+\"\\\\\"\n",
    "outpaths=r\"C:\\Users\\Public\\Documents\\PYTORCH_NOTEBOOKS\\Data\\Apple\\images\\test_train\\Train\\healthy\"+\"\\\\\"\n",
    "path, dirs, files = next(os.walk(paths))\n",
    "\n",
    "file_count = len(files)+1\n",
    "\n",
    "for i in range(1,file_count):\n",
    "    os.rename(paths+\"healthyc (\"  + (str(i))+ \")\" + '.jpg', outpaths + 'healthy'+ str(i) +'.jpg') \n",
    "   \n",
    "\n",
    "    \n"
   ]
  },
  {
   "cell_type": "code",
   "execution_count": 38,
   "metadata": {},
   "outputs": [],
   "source": [
    "paths=r\"C:\\Users\\Public\\Documents\\PYTORCH_NOTEBOOKS\\Data\\Apple\\images\\Apple___Cedar_apple_rust\"+\"\\\\\"\n",
    "outpaths=r\"C:\\Users\\Public\\Documents\\PYTORCH_NOTEBOOKS\\Data\\Apple\\images\\test_train\\Train\\rust\"+\"\\\\\"\n",
    "path, dirs, files = next(os.walk(paths))\n",
    "\n",
    "file_count = len(files)+1\n",
    "\n",
    "for i in range(1,file_count):\n",
    "    os.rename(paths+\"rustc (\"  + (str(i))+ \")\" + '.jpg', outpaths + 'rust2'+ str(i) +'.jpg') \n",
    "   "
   ]
  },
  {
   "cell_type": "code",
   "execution_count": 39,
   "metadata": {},
   "outputs": [],
   "source": [
    "\n",
    "paths=r\"C:\\Users\\Public\\Documents\\PYTORCH_NOTEBOOKS\\Data\\Apple\\images\\Apple___Black_rot\"+\"\\\\\"\n",
    "outpaths=r\"C:\\Users\\Public\\Documents\\PYTORCH_NOTEBOOKS\\Data\\Apple\\images\\test_train\\Train\\multiple\"+\"\\\\\"\n",
    "path, dirs, files = next(os.walk(paths))\n",
    "\n",
    "file_count = len(files)+1\n",
    "\n",
    "for i in range(1,file_count):\n",
    "    os.rename(paths+\"multiplec (\"  + (str(i))+ \")\" + '.jpg', outpaths + 'multiple3'+ str(i) +'.jpg') "
   ]
  },
  {
   "cell_type": "code",
   "execution_count": null,
   "metadata": {},
   "outputs": [],
   "source": []
  }
 ],
 "metadata": {
  "kernelspec": {
   "display_name": "Python 3",
   "language": "python",
   "name": "python3"
  },
  "language_info": {
   "codemirror_mode": {
    "name": "ipython",
    "version": 3
   },
   "file_extension": ".py",
   "mimetype": "text/x-python",
   "name": "python",
   "nbconvert_exporter": "python",
   "pygments_lexer": "ipython3",
   "version": "3.7.6"
  }
 },
 "nbformat": 4,
 "nbformat_minor": 4
}
