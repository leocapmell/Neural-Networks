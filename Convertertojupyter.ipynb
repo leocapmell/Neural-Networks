{
 "cells": [
  {
   "cell_type": "code",
   "execution_count": 4,
   "metadata": {},
   "outputs": [
    {
     "data": {
      "text/plain": [
       "1309968"
      ]
     },
     "execution_count": 4,
     "metadata": {},
     "output_type": "execute_result"
    }
   ],
   "source": [
    "import IPython.nbformat.current as convert\n",
    "conv = convert.read(open(r'C:\\Users\\Public\\Documents\\kadenze_mir_c1_s1_9_sinusoids_inner_product.txt', 'r'), 'txt')\n",
    "convert.write(conv, open(r'C:\\Users\\Public\\Documents\\PYTORCH_NOTEBOOKS\\DSP\\kadenze_mir_c1_s1_9_sinusoids_inner_product.ipynb', 'w'), 'kadenze_mir_c1_s1_7_sinusoids')"
   ]
  },
  {
   "cell_type": "code",
   "execution_count": null,
   "metadata": {},
   "outputs": [],
   "source": []
  }
 ],
 "metadata": {
  "kernelspec": {
   "display_name": "Python 3",
   "language": "python",
   "name": "python3"
  },
  "language_info": {
   "codemirror_mode": {
    "name": "ipython",
    "version": 3
   },
   "file_extension": ".py",
   "mimetype": "text/x-python",
   "name": "python",
   "nbconvert_exporter": "python",
   "pygments_lexer": "ipython3",
   "version": "3.7.6"
  }
 },
 "nbformat": 4,
 "nbformat_minor": 4
}
